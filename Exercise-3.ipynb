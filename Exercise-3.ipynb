{
 "cells": [
  {
   "cell_type": "markdown",
   "metadata": {},
   "source": [
    "# Exercise 3\n",
    "\n",
    "Exercise 3 includes a **written assignment** (10 points), a **programming assignment with 3 problems** (9 points) and a **feedback/workload assessment assignment** (1 point). For each problem you need to modify the notebook by adding your own programming solutions or written text. Remember to save and commit your changes locally, and push your changes to GitHub after each major change! Regular commits will help you to keep track of your changes (and revert them if needed). Pushing your work to GitHub will ensure that you don't lose any work in case your computer crashes (can happen!).\n",
    "\n",
    "### Due date\n",
    "\n",
    "This exercise should be returned to your personal Github repository **within two weeks** after it has been released (by Thursday February 10th at 23:59). Please notice that finishing the programming exercises can take significant amount of time (especially if you don't have yet much programming experience). Hence, it is recommended that you start immediately working on them."
   ]
  },
  {
   "cell_type": "markdown",
   "metadata": {},
   "source": [
    "# Exercise 3 - Written assignment\n",
    "\n",
    "In the *Sustainable cities and mobilities* and *Mobility analytics* lessons this week, we went through a few ideas related to how mobilities relates to sustainability and how it is possible to analyze observed spatial mobility analytically. \n",
    "\n",
    "## Spatial mobility and sustainability (10 points)\n",
    "\n",
    "Write approximately 0.5-2 pages of text (A4) in English where you explain:\n",
    " \n",
    " - What kind of issues increased mobility causes related to sustainability? \n",
    " - What kind of possible solutions there are that could help to solve or at least improve the situation related to current mobility crisis?\n",
    " - When analyzing mobility data, what challenges there exist related to the nature of the data? Are there any workarounds to overcome these challenges?\n",
    " - Do you consider (or have you considered) sustainability related issues regarding your own travel behavior? E.g. in terms of what mode of transport you use for daily travelling, or e.g. regarding the destinations where you travel for holiday?\n",
    " \n",
    "Use the lesson materials and the recommended readings (optional) as a source of information for answering to these.\n",
    "\n",
    "----------------\n",
    "\n",
    "### My answer\n",
    "\n",
    "*Hint: To \"activate\" this cell in Editing mode, double click this cell. If you want to get this cell back in the \"Reading-mode\", press Shift+Enter.*\n",
    "\n",
    "## Hints\n",
    "\n",
    "- If you need help in Markdown formatting (e.g. how to add headings, bold, italics, links etc.), please take a look at this excellent [guide / cheatsheet](https://www.markdownguide.org/cheat-sheet/) "
   ]
  },
  {
   "cell_type": "markdown",
   "metadata": {},
   "source": [
    "# Exercise 3 - Programming assignment\n",
    "\n",
    "In this exercise, we will practice movement data analysis and visualization. Our overall goal is to learn how to work with spatio-temporal data, and manipulate GPS observations obtained from Helsinki Region Transport showing the movements of public transport vehicles in Helsinki Region. The data was obtained from [HSL GTFS-RT feed](https://hsldevcom.github.io/gtfs_rt/) that provides information about the locations of the vehicles in real time. The frequency of observations in the raw data is 1 second. In this exercise, you will learn how to:\n",
    "\n",
    " - filter and resample the data (reduce the number of observations)\n",
    " - visualize the movement data with an animation\n",
    " - extract specific mobility characteristics from the data (e.g. statistics about average speed)\n",
    "\n",
    "### Start your exercise in CSC Notebooks\n",
    "\n",
    "Before you can start programming, you need to launch the CSC Notebook instance and clone your Exercise repository there.\n",
    "If you need help with this, [read the documentation on the course site](https://sustainability-gis.readthedocs.io/en/latest/lessons/L1/git-basics.html).\n",
    " \n",
    "### Hints \n",
    "\n",
    "If there are general questions arising from this exercise, we will add hints to the course website under [Exercise 3 description](https://sustainability-gis.readthedocs.io/en/latest/lessons/L3/exercise-3.html). "
   ]
  },
  {
   "cell_type": "markdown",
   "metadata": {},
   "source": [
    "## Problem 1 - Prepare and filter data (4 points)\n",
    "\n",
    "In this problem there are altogether 11 steps in which, we will prepare and filter the data both geographically and temporally. You should:\n",
    "\n",
    "**GPS data**:\n",
    " 1. read the GPS observations from the CSV file inside `helsinki_gtfs_rt.zip` file with pandas available from [this URL](https://gist.github.com/HTenkanen/0934ad916c17373fe3221d61ed190f59/raw/8ac39455a054ab2be125aaea50244bd8fe123b28/helsinki_gtfs_rt.zip). Notice that [you can read the data directly from the zipfile](https://stackoverflow.com/a/32993553) without needing to extract it.\n",
    "    \n",
    " 2. create a \"geometry\" column with Point geometries based on `lat` and `lon` columns\n",
    " 3. convert the pandas DataFrame into GeoDataFrame having WGS84 as the coordinate reference system\n",
    " 4. create a DateTime index for the GeoDataFrame based on the `timestamp` column\n",
    " \n",
    "**Helsinki Region boundaries**:\n",
    "\n",
    " 5. read the boundaries of Helsinki Region using `pyrosm`\n",
    " 6. extract the total extent (bounding box) of the region into a single geometry and make a GeoDataFrame out of it\n",
    " \n",
    "**Filter data geographically**:\n",
    "\n",
    " 7. Select all observations that intersect with the Helsinki Region bounding box \n",
    " 8. Answer to following questions (use programming to find the answers):\n",
    "   - When was the first observation recorded?\n",
    "   - When was the last observation recorded?\n",
    "   - On which weekday has the data been recorded? (e.g. Monday, Tuesday etc.)\n",
    " "
   ]
  },
  {
   "cell_type": "code",
   "execution_count": null,
   "metadata": {
    "deletable": false,
    "nbgrader": {
     "cell_type": "code",
     "checksum": "1a18255aac9e70de8f3a592edab76d0b",
     "grade": true,
     "grade_id": "cell-33dd713130f5c8d8",
     "locked": false,
     "points": 3,
     "schema_version": 3,
     "solution": true,
     "task": false
    }
   },
   "outputs": [],
   "source": [
    "# URL to data file\n",
    "url = \"https://gist.github.com/HTenkanen/0934ad916c17373fe3221d61ed190f59/raw/8ac39455a054ab2be125aaea50244bd8fe123b28/helsinki_gtfs_rt.zip\"\n",
    "\n",
    "# YOUR CODE HERE\n",
    "raise NotImplementedError()"
   ]
  },
  {
   "cell_type": "markdown",
   "metadata": {},
   "source": [
    "**Filter data temporally**:\n",
    "\n",
    " 9. Make an interactive histogram from the GPS data that shows the number of observations per minute. As a result, you should get something like this:\n",
    " \n",
    "![Temporal profile before filter](img/HSL_temporal_profile_before_filter.PNG)\n"
   ]
  },
  {
   "cell_type": "code",
   "execution_count": null,
   "metadata": {
    "deletable": false,
    "nbgrader": {
     "cell_type": "code",
     "checksum": "27ed1358a185e03a0cee9014a9550629",
     "grade": true,
     "grade_id": "cell-9a67d5604d1cc994",
     "locked": false,
     "points": 0.5,
     "schema_version": 3,
     "solution": true,
     "task": false
    }
   },
   "outputs": [],
   "source": [
    "# YOUR CODE HERE\n",
    "raise NotImplementedError()"
   ]
  },
  {
   "cell_type": "markdown",
   "metadata": {},
   "source": [
    "10. Based on the information from the histogram find out (by exploring the interactive visualization):\n",
    "    - when was the first moment in time (minute) when there were more than 14 thousand (14000) observations per minute? --> write it down in following format `\"YYYY-MM-DD HH:MM\"`\n",
    "    - when was the last moment in time (minute) when there were more than 14 thousand (14000) observations per minute? --> write it down in following format `\"YYYY-MM-DD HH:MM\"`\n",
    "    \n",
    "11. Based on the start and end time that you found out in the previous step, select the observations that are between the given moments in time. Visualize the selected data with a histogram. As a result you should have something like this:\n",
    " \n",
    "![Temporal profile after filter](img/HSL_temporal_profile_after_filter.PNG)\n",
    "    "
   ]
  },
  {
   "cell_type": "code",
   "execution_count": null,
   "metadata": {
    "deletable": false,
    "nbgrader": {
     "cell_type": "code",
     "checksum": "606763f760f7267282b8676c1070d21e",
     "grade": true,
     "grade_id": "cell-8c2c6e8a9d56a1d0",
     "locked": false,
     "points": 0.5,
     "schema_version": 3,
     "solution": true,
     "task": false
    }
   },
   "outputs": [],
   "source": [
    "# YOUR CODE HERE\n",
    "raise NotImplementedError()"
   ]
  },
  {
   "cell_type": "markdown",
   "metadata": {},
   "source": [
    "## Problem 2 - Create an animation based on the movements (3 points)\n",
    "\n",
    "In this problem, the idea is to reduce the number of observations by resampling our data (i.e. only keeping record every 10 seconds) and create an animation out of our data. For doing this, you should:\n",
    "\n",
    "1. Group the GPS observations that you selected and filtered in the previous problem based on `vehicle_id` and `direction_id` using the `groupby()` -function of pandas.\n",
    "2. Iterate over the groups and **for each group**:\n",
    "  - Resample the observations in a way that only one observation per 10 seconds is kept (i.e. reducing the number of observations). You can do this by chaining the following commands together: \n",
    "    1. Resample the group using `.resample()` -function of pandas with 10 second threshold. This returns a set of samples where observations within 10 seconds are grouped together. \n",
    "    2. From the output of the previous step, keep only the first observation of each sample using the `.first()` -function of pandas. This will reduce the number of observations so that only 1 observation per 10 seconds is kept.\n",
    "  - Store the resulting sample GeoDataFrame into a list `sampled`\n",
    "  - **Hint / Good programming practice:** *When programming something like this, where functionality should be implemented inside a loop, it is highly useful to use `break` command as the last intended line in the loop. This will stop the loop after the first iteration, and it is easier (and faster) to investigate what is happening inside the loop by checking the variable values. ([see examples here](https://www.pythontutorial.net/python-basics/python-break/))*\n",
    "3. Combine all the GeoDataFrames stored in `sampled` list into a single GeoDataFrame (check [pd.concat()](https://pandas.pydata.org/pandas-docs/stable/reference/api/pandas.concat.html))\n",
    "4. Drop all empty geometries from the combined GeoDataFrame\n",
    "5. Make a copy of the combined GeoDataFrame and store it into a new variable `visualization_data`, and\n",
    "  - Reset the index of the GeoDataFrame and drop the column `time` (i.e. the DateTime information)\n",
    "  - Select only following columns from the combined GeoDataFrame `\"geometry\", \"speed\", \"timestamp\", \"direction_id\", \"vehicle_id\", \"route_id\"`\n",
    "7. Create an animation based on the `visualization_data` with KeplerGl following the example that was shown during the lesson. The output animation could look something like [following](https://sustainability-gis-2021.github.io/examples/Helsinki_PT_Trajectories.html) (be patient, it takes a moment to load the visualization) in which the speed is used as source for coloring the points."
   ]
  },
  {
   "cell_type": "code",
   "execution_count": null,
   "metadata": {
    "deletable": false,
    "nbgrader": {
     "cell_type": "code",
     "checksum": "6ce369813e58a27a2fc1a2cdcf016cfc",
     "grade": true,
     "grade_id": "cell-82e863c6c652b7a9",
     "locked": false,
     "points": 3,
     "schema_version": 3,
     "solution": true,
     "task": false
    }
   },
   "outputs": [],
   "source": [
    "# Container for resampled GeoDataFrames\n",
    "sampled =  []\n",
    "\n",
    "# YOUR CODE HERE\n",
    "raise NotImplementedError()"
   ]
  },
  {
   "cell_type": "markdown",
   "metadata": {},
   "source": [
    "8. Save the animation as an HTML file into the `docs` directory and name the file as `index.html`:"
   ]
  },
  {
   "cell_type": "code",
   "execution_count": null,
   "metadata": {
    "deletable": false,
    "nbgrader": {
     "cell_type": "code",
     "checksum": "720e14af59880c641a7aea8d4b519c8d",
     "grade": true,
     "grade_id": "cell-e5896647f99d9e8c",
     "locked": false,
     "points": 0,
     "schema_version": 3,
     "solution": true,
     "task": false
    }
   },
   "outputs": [],
   "source": [
    "# YOUR CODE HERE\n",
    "raise NotImplementedError()"
   ]
  },
  {
   "cell_type": "markdown",
   "metadata": {},
   "source": [
    "## Problem 3 - Trajectory data mining - Mobility characteristics (2 points) \n",
    "\n",
    "In this problem, the idea is to continue working with our resampled data and calculate some basic movement characteristics based on our data (as was introduced in tutorial 3). For doing this, you should:\n",
    "\n",
    "1. Group the sampled GeoDataFrame (from problem 2 having 10 second intervals) based on `direction_id` and `vehicle_id`\n",
    "2. Iterate over the groups and on each iteration:\n",
    "  - Create a trajectory collection out of the group if the maximum speed of the observations is larger than 0 (reported as meters per second)\n",
    "  - Split the trajectory based on criteria that if there is a 5-minute time gap between observations, the trajectory should be splitted into multiple ones. Use the `mpd.ObservationGapSplitter()` functionality to do this (find information from the movingpandas docs).\n",
    "  - Calculate the speed for each of these trajectories as **kilometers per hour** and select only observations where the speed is at least 1 kmph\n",
    "  - Calculate the average and standard deviation of the speed (in kmph)\n",
    "  - Create a LineString geometry out of the observations\n",
    "  - Parse other useful information from the trajectory (should be a single value): vehicle_id, route_id, direction_id and start_time (i.e. what was the first timestamp of the trajectory).\n",
    "  - Store each trajectory as a GeoDataFrame into `results` list\n",
    "3. Merge all the individual GeoDataFrames stored in the `results` list representing individual trajectories\n",
    "4. Plot the trajectories. As a result you should have something like following:\n",
    "\n",
    "![HSL trajectories](img/HSL_trajectories.PNG)\n",
    "\n",
    "5. Based on the trajectory data, answer to following questions:\n",
    "  - What is the average speed of all the trajectories in our data?\n",
    "  - What is the maximum speed of all the trajectories in our data?\n",
    "  - What is the total length of all trajectories in our data? (in kilometers)\n",
    "  - (optional validation for you): if you plot the histogram of the average speeds, you should get something like following:\n",
    "  \n",
    "![HSL avg speeds histogram](img/HSL_average_speeds.PNG)\n",
    "  \n",
    "   \n",
    "6. Plot the trajectories and use the average speed as the column for defining the colors. If you compare the visualization to following map, can you detect some similarities or differences? \n",
    "\n",
    "![HSL trajectories](img/HSL_zones.jpg)"
   ]
  },
  {
   "cell_type": "code",
   "execution_count": null,
   "metadata": {
    "deletable": false,
    "nbgrader": {
     "cell_type": "code",
     "checksum": "da2fd374f86b2076c18369b9e35c35f6",
     "grade": true,
     "grade_id": "cell-a618e80106e17c99",
     "locked": false,
     "points": 2,
     "schema_version": 3,
     "solution": true,
     "task": false
    }
   },
   "outputs": [],
   "source": [
    "# Container for the resulting trajectory GeoDataFrames\n",
    "results = []\n",
    "\n",
    "# YOUR CODE HERE\n",
    "raise NotImplementedError()"
   ]
  },
  {
   "cell_type": "markdown",
   "metadata": {},
   "source": [
    "## Problem 4 - How long did it take? Optional feedback (1 point)\n",
    "\n",
    "To help developing the exercises, and understanding the time that it took for you to finish the Exercise, please provide an estimate of how many hours you spent for doing this exercise? *__Hint:__ To \"activate\" this cell in Editing mode, double click this cell. If you want to get this cell back in the \"Reading-mode\", press Shift+Enter.*\n",
    "\n",
    "\n",
    "I spent approximately this many hours: **X hours**\n",
    "\n",
    "In addition, if you would like to give any feedback about the exercise (optional), please provide it below:\n",
    "\n",
    "**My feedback:**"
   ]
  }
 ],
 "metadata": {
  "kernelspec": {
   "display_name": "Python 3 (ipykernel)",
   "language": "python",
   "name": "python3"
  },
  "language_info": {
   "codemirror_mode": {
    "name": "ipython",
    "version": 3
   },
   "file_extension": ".py",
   "mimetype": "text/x-python",
   "name": "python",
   "nbconvert_exporter": "python",
   "pygments_lexer": "ipython3",
   "version": "3.9.7"
  }
 },
 "nbformat": 4,
 "nbformat_minor": 4
}
